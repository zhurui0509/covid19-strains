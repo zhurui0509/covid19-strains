{
 "cells": [
  {
   "cell_type": "code",
   "execution_count": 19,
   "metadata": {},
   "outputs": [],
   "source": [
    "import pandas as pd\n",
    "directrelief = pd.read_csv('../../../dr_experts.csv')"
   ]
  },
  {
   "cell_type": "code",
   "execution_count": 20,
   "metadata": {},
   "outputs": [],
   "source": [
    "def nameClean(aName):\n",
    "    tmp = aName.split(',')\n",
    "    last = tmp[0]\n",
    "    first_or_middle = tmp[1].lstrip()\n",
    "    newName = first_or_middle+\" \"+last\n",
    "    return newName"
   ]
  },
  {
   "cell_type": "code",
   "execution_count": 21,
   "metadata": {},
   "outputs": [],
   "source": [
    "directrelief['Name'] = directrelief['Name'].apply(nameClean)"
   ]
  },
  {
   "cell_type": "code",
   "execution_count": 22,
   "metadata": {},
   "outputs": [],
   "source": [
    "directrelief.to_csv('../../../dr_experts_processed.csv')"
   ]
  },
  {
   "cell_type": "code",
   "execution_count": 13,
   "metadata": {},
   "outputs": [
    {
     "data": {
      "text/plain": [
       "0          David Lopez-Carr\n",
       "1          Christopher Funk\n",
       "2             Susan Cassels\n",
       "3        Krzysztof Janowicz\n",
       "4           Satchit Balsari\n",
       "5           Caroline Buckee\n",
       "6               Naomi Tague\n",
       "7           Andrew Platinga\n",
       "8            Sarah Anderson\n",
       "9                Max Moritz\n",
       "10             Amy Lockwood\n",
       "11           Sofia Merajver\n",
       "12          John Brownstein\n",
       "13                Dan Kelly\n",
       "14              Larry Stock\n",
       "15            Thomas J. Lee\n",
       "16               Doug Gross\n",
       "17            Eric Savitsky\n",
       "18               Neena Jain\n",
       "19              Raj Panjabi\n",
       "20     Beatrice Wiafe Addai\n",
       "21          William C. Gong\n",
       "22               Seth Wiafe\n",
       "23              Ncoza Dlova\n",
       "24             Roderick Hay\n",
       "25         Ayesha Akinkugbe\n",
       "26              Yusef Zafar\n",
       "27             Oliver Brady\n",
       "28            Sujan Shresta\n",
       "29            Marcia Castro\n",
       "Name: Name, dtype: object"
      ]
     },
     "execution_count": 13,
     "metadata": {},
     "output_type": "execute_result"
    }
   ],
   "source": [
    "directrelief"
   ]
  }
 ],
 "metadata": {
  "kernelspec": {
   "display_name": "Python 3",
   "language": "python",
   "name": "python3"
  },
  "language_info": {
   "codemirror_mode": {
    "name": "ipython",
    "version": 3
   },
   "file_extension": ".py",
   "mimetype": "text/x-python",
   "name": "python",
   "nbconvert_exporter": "python",
   "pygments_lexer": "ipython3",
   "version": "3.7.3"
  }
 },
 "nbformat": 4,
 "nbformat_minor": 2
}
